{
 "cells": [
  {
   "cell_type": "code",
   "execution_count": 6,
   "metadata": {},
   "outputs": [],
   "source": [
    "import pandas as pd\n",
    "import numpy as np"
   ]
  },
  {
   "cell_type": "code",
   "execution_count": 7,
   "metadata": {},
   "outputs": [
    {
     "data": {
      "text/html": [
       "<div>\n",
       "<style scoped>\n",
       "    .dataframe tbody tr th:only-of-type {\n",
       "        vertical-align: middle;\n",
       "    }\n",
       "\n",
       "    .dataframe tbody tr th {\n",
       "        vertical-align: top;\n",
       "    }\n",
       "\n",
       "    .dataframe thead th {\n",
       "        text-align: right;\n",
       "    }\n",
       "</style>\n",
       "<table border=\"1\" class=\"dataframe\">\n",
       "  <thead>\n",
       "    <tr style=\"text-align: right;\">\n",
       "      <th></th>\n",
       "      <th>Unnamed: 0</th>\n",
       "      <th>batter</th>\n",
       "      <th>baller</th>\n",
       "      <th>ball_speed</th>\n",
       "      <th>ball_length</th>\n",
       "      <th>ball_line</th>\n",
       "      <th>wicket</th>\n",
       "      <th>wide</th>\n",
       "      <th>runs</th>\n",
       "      <th>shot</th>\n",
       "      <th>commentary</th>\n",
       "    </tr>\n",
       "  </thead>\n",
       "  <tbody>\n",
       "    <tr>\n",
       "      <th>0</th>\n",
       "      <td>0</td>\n",
       "      <td>Bumrah</td>\n",
       "      <td>Naseem Shah</td>\n",
       "      <td>119.0</td>\n",
       "      <td>NaN</td>\n",
       "      <td>NaN</td>\n",
       "      <td>1</td>\n",
       "      <td>0</td>\n",
       "      <td>0</td>\n",
       "      <td>NaN</td>\n",
       "      <td>Naseem Shah to Bumrah, out Caught by Agha Salm...</td>\n",
       "    </tr>\n",
       "    <tr>\n",
       "      <th>1</th>\n",
       "      <td>1</td>\n",
       "      <td>Bumrah</td>\n",
       "      <td>Naseem Shah</td>\n",
       "      <td>139.0</td>\n",
       "      <td>full</td>\n",
       "      <td>straight</td>\n",
       "      <td>0</td>\n",
       "      <td>0</td>\n",
       "      <td>4</td>\n",
       "      <td>lofted off drive</td>\n",
       "      <td>Naseem Shah to Bumrah, FOUR, 139kph, fuller in...</td>\n",
       "    </tr>\n",
       "    <tr>\n",
       "      <th>2</th>\n",
       "      <td>2</td>\n",
       "      <td>Siraj</td>\n",
       "      <td>Naseem Shah</td>\n",
       "      <td>NaN</td>\n",
       "      <td>short</td>\n",
       "      <td>outside</td>\n",
       "      <td>0</td>\n",
       "      <td>0</td>\n",
       "      <td>1</td>\n",
       "      <td>late cut</td>\n",
       "      <td>Naseem Shah to Siraj, 1 run, short of length d...</td>\n",
       "    </tr>\n",
       "    <tr>\n",
       "      <th>3</th>\n",
       "      <td>3</td>\n",
       "      <td>Kuldeep Yadav</td>\n",
       "      <td>Naseem Shah</td>\n",
       "      <td>141.0</td>\n",
       "      <td>short</td>\n",
       "      <td>straight</td>\n",
       "      <td>1</td>\n",
       "      <td>0</td>\n",
       "      <td>0</td>\n",
       "      <td>pull</td>\n",
       "      <td>Naseem Shah to Kuldeep Yadav, out Caught by Ri...</td>\n",
       "    </tr>\n",
       "    <tr>\n",
       "      <th>4</th>\n",
       "      <td>4</td>\n",
       "      <td>Kuldeep Yadav</td>\n",
       "      <td>Naseem Shah</td>\n",
       "      <td>NaN</td>\n",
       "      <td>length</td>\n",
       "      <td>outside</td>\n",
       "      <td>0</td>\n",
       "      <td>0</td>\n",
       "      <td>0</td>\n",
       "      <td>late cut</td>\n",
       "      <td>Naseem Shah to Kuldeep Yadav, no run, B0$, len...</td>\n",
       "    </tr>\n",
       "  </tbody>\n",
       "</table>\n",
       "</div>"
      ],
      "text/plain": [
       "   Unnamed: 0         batter       baller  ball_speed ball_length ball_line  \\\n",
       "0           0         Bumrah  Naseem Shah       119.0         NaN       NaN   \n",
       "1           1         Bumrah  Naseem Shah       139.0        full  straight   \n",
       "2           2          Siraj  Naseem Shah         NaN       short   outside   \n",
       "3           3  Kuldeep Yadav  Naseem Shah       141.0       short  straight   \n",
       "4           4  Kuldeep Yadav  Naseem Shah         NaN      length   outside   \n",
       "\n",
       "   wicket  wide  runs              shot  \\\n",
       "0       1     0     0               NaN   \n",
       "1       0     0     4  lofted off drive   \n",
       "2       0     0     1          late cut   \n",
       "3       1     0     0              pull   \n",
       "4       0     0     0          late cut   \n",
       "\n",
       "                                          commentary  \n",
       "0  Naseem Shah to Bumrah, out Caught by Agha Salm...  \n",
       "1  Naseem Shah to Bumrah, FOUR, 139kph, fuller in...  \n",
       "2  Naseem Shah to Siraj, 1 run, short of length d...  \n",
       "3  Naseem Shah to Kuldeep Yadav, out Caught by Ri...  \n",
       "4  Naseem Shah to Kuldeep Yadav, no run, B0$, len...  "
      ]
     },
     "execution_count": 7,
     "metadata": {},
     "output_type": "execute_result"
    }
   ],
   "source": [
    "df=pd.read_csv(\"match_data\\ind-vs-pak-super-fours.csv\")\n",
    "df.head()"
   ]
  },
  {
   "cell_type": "code",
   "execution_count": 8,
   "metadata": {},
   "outputs": [
    {
     "name": "stdout",
     "output_type": "stream",
     "text": [
      "<class 'pandas.core.frame.DataFrame'>\n",
      "RangeIndex: 305 entries, 0 to 304\n",
      "Data columns (total 11 columns):\n",
      " #   Column       Non-Null Count  Dtype  \n",
      "---  ------       --------------  -----  \n",
      " 0   Unnamed: 0   305 non-null    int64  \n",
      " 1   batter       305 non-null    object \n",
      " 2   baller       305 non-null    object \n",
      " 3   ball_speed   113 non-null    float64\n",
      " 4   ball_length  258 non-null    object \n",
      " 5   ball_line    266 non-null    object \n",
      " 6   wicket       305 non-null    int64  \n",
      " 7   wide         305 non-null    int64  \n",
      " 8   runs         305 non-null    int64  \n",
      " 9   shot         258 non-null    object \n",
      " 10  commentary   305 non-null    object \n",
      "dtypes: float64(1), int64(4), object(6)\n",
      "memory usage: 26.3+ KB\n"
     ]
    }
   ],
   "source": [
    "df.info()"
   ]
  },
  {
   "cell_type": "code",
   "execution_count": 9,
   "metadata": {},
   "outputs": [
    {
     "data": {
      "text/plain": [
       "Index(['Unnamed: 0', 'batter', 'baller', 'ball_speed', 'ball_length',\n",
       "       'ball_line', 'wicket', 'wide', 'runs', 'shot', 'commentary'],\n",
       "      dtype='object')"
      ]
     },
     "execution_count": 9,
     "metadata": {},
     "output_type": "execute_result"
    }
   ],
   "source": [
    "df.columns"
   ]
  },
  {
   "cell_type": "code",
   "execution_count": 10,
   "metadata": {},
   "outputs": [
    {
     "name": "stdout",
     "output_type": "stream",
     "text": [
      "<class 'pandas.core.frame.DataFrame'>\n",
      "Index: 257 entries, 1 to 303\n",
      "Data columns (total 4 columns):\n",
      " #   Column       Non-Null Count  Dtype \n",
      "---  ------       --------------  ----- \n",
      " 0   ball_length  257 non-null    object\n",
      " 1   ball_line    257 non-null    object\n",
      " 2   shot         257 non-null    object\n",
      " 3   commentary   257 non-null    object\n",
      "dtypes: object(4)\n",
      "memory usage: 10.0+ KB\n"
     ]
    }
   ],
   "source": [
    "columns_to_drop = ['Unnamed: 0', 'batter', 'baller', 'ball_speed', 'wicket', 'wide', 'runs']\n",
    "df.drop(columns=columns_to_drop, inplace=True)\n",
    "df.dropna(inplace=True)\n",
    "df.info()"
   ]
  },
  {
   "cell_type": "code",
   "execution_count": 11,
   "metadata": {},
   "outputs": [],
   "source": [
    "ball_length=df[\"ball_length\"]\n",
    "ball_line=df[\"ball_line\"]\n",
    "shot=df[\"shot\"]\n",
    "\n",
    "labels_ball_length=[]\n",
    "for j in ball_length:\n",
    "    labels_ball_length.append(j)\n",
    "\n",
    "labels_ball_line=[]\n",
    "for j in ball_line:\n",
    "    labels_ball_line.append(j)\n",
    "\n",
    "labels_shot=[]\n",
    "for j in shot:\n",
    "    labels_shot.append(j)"
   ]
  },
  {
   "cell_type": "code",
   "execution_count": 12,
   "metadata": {},
   "outputs": [],
   "source": [
    "from sklearn.feature_extraction.text import TfidfVectorizer\n",
    "import pandas as pd\n",
    "\n",
    "text=[]\n",
    "for i in df[\"commentary\"]:\n",
    "    text.append(i)\n",
    "    # print(i)\n",
    "\n",
    "# Create a TF-IDF vectorizer\n",
    "tfidf_vectorizer = TfidfVectorizer(max_features=500)\n",
    "\n",
    "import joblib\n",
    "\n",
    "tfidf_vectorizer_filename = 'tfidf_vectorizer.pkl'\n",
    "joblib.dump(tfidf_vectorizer, tfidf_vectorizer_filename)\n",
    "\n",
    "# Compute TF-IDF vectors\n",
    "X_tfidf = tfidf_vectorizer.fit_transform(text)"
   ]
  },
  {
   "cell_type": "code",
   "execution_count": 13,
   "metadata": {},
   "outputs": [
    {
     "name": "stdout",
     "output_type": "stream",
     "text": [
      "Accuracy: 0.7307692307692307\n",
      "              precision    recall  f1-score   support\n",
      "\n",
      "         leg       0.50      0.50      0.50         4\n",
      "     outside       0.77      0.83      0.80        24\n",
      "    straight       0.73      0.67      0.70        24\n",
      "\n",
      "    accuracy                           0.73        52\n",
      "   macro avg       0.67      0.67      0.67        52\n",
      "weighted avg       0.73      0.73      0.73        52\n",
      "\n"
     ]
    },
    {
     "data": {
      "text/plain": [
       "['ball_line_model.pkl']"
      ]
     },
     "execution_count": 13,
     "metadata": {},
     "output_type": "execute_result"
    }
   ],
   "source": [
    "# ball_line\n",
    "\n",
    "from sklearn.model_selection import train_test_split\n",
    "\n",
    "X_train, X_test, y_train, y_test = train_test_split(X_tfidf, labels_ball_line, test_size=0.2, random_state=42)\n",
    "\n",
    "from sklearn.ensemble import RandomForestClassifier\n",
    "\n",
    "# Create a Random Forest classifier\n",
    "rf_classifier = RandomForestClassifier(n_estimators=99, random_state=42)\n",
    "\n",
    "# Train the classifier\n",
    "rf_classifier.fit(X_train, y_train)\n",
    "\n",
    "from sklearn.metrics import accuracy_score, classification_report\n",
    "\n",
    "# Make predictions\n",
    "y_pred = rf_classifier.predict(X_test)\n",
    "\n",
    "# Evaluate the classifier\n",
    "accuracy = accuracy_score(y_test, y_pred)\n",
    "report = classification_report(y_test, y_pred)\n",
    "\n",
    "print(f\"Accuracy: {accuracy}\")\n",
    "print(report)\n",
    "\n",
    "\n",
    "\n",
    "import joblib\n",
    "\n",
    "# Save the trained Random Forest classifier to a file\n",
    "model_filename = 'ball_line_model.pkl'\n",
    "joblib.dump(rf_classifier, model_filename)"
   ]
  },
  {
   "cell_type": "code",
   "execution_count": 14,
   "metadata": {},
   "outputs": [
    {
     "name": "stdout",
     "output_type": "stream",
     "text": [
      "Accuracy: 0.7884615384615384\n",
      "              precision    recall  f1-score   support\n",
      "\n",
      "        full       0.80      0.92      0.86        26\n",
      "      length       0.80      0.50      0.62        16\n",
      "       short       0.75      0.90      0.82        10\n",
      "\n",
      "    accuracy                           0.79        52\n",
      "   macro avg       0.78      0.77      0.76        52\n",
      "weighted avg       0.79      0.79      0.78        52\n",
      "\n"
     ]
    },
    {
     "data": {
      "text/plain": [
       "['ball_length_model.pkl']"
      ]
     },
     "execution_count": 14,
     "metadata": {},
     "output_type": "execute_result"
    }
   ],
   "source": [
    "# ball_length\n",
    "\n",
    "from sklearn.model_selection import train_test_split\n",
    "\n",
    "X_train, X_test, y_train, y_test = train_test_split(X_tfidf, labels_ball_length, test_size=0.2, random_state=42)\n",
    "\n",
    "from sklearn.ensemble import RandomForestClassifier\n",
    "\n",
    "# Create a Random Forest classifier\n",
    "rf_classifier = RandomForestClassifier(n_estimators=100, random_state=42,max_depth=14)\n",
    "\n",
    "# Train the classifier\n",
    "rf_classifier.fit(X_train, y_train)\n",
    "\n",
    "from sklearn.metrics import accuracy_score, classification_report\n",
    "\n",
    "# Make predictions\n",
    "y_pred = rf_classifier.predict(X_test)\n",
    "\n",
    "# Evaluate the classifier\n",
    "accuracy = accuracy_score(y_test, y_pred)\n",
    "report = classification_report(y_test, y_pred)\n",
    "\n",
    "print(f\"Accuracy: {accuracy}\")\n",
    "print(report)\n",
    "\n",
    "\n",
    "\n",
    "import joblib\n",
    "\n",
    "# Save the trained Random Forest classifier to a file\n",
    "model_filename = 'ball_length_model.pkl'\n",
    "joblib.dump(rf_classifier, model_filename)"
   ]
  },
  {
   "cell_type": "code",
   "execution_count": 15,
   "metadata": {},
   "outputs": [
    {
     "name": "stdout",
     "output_type": "stream",
     "text": [
      "Accuracy: 0.5961538461538461\n",
      "                precision    recall  f1-score   support\n",
      "\n",
      "backfoot punch       0.00      0.00      0.00         1\n",
      "   cover drive       0.71      0.71      0.71         7\n",
      "           cut       0.45      0.62      0.53         8\n",
      "        defend       0.42      0.83      0.56         6\n",
      "         flick       0.64      1.00      0.78         7\n",
      "      late cut       0.75      1.00      0.86         3\n",
      "         leave       0.00      0.00      0.00         2\n",
      "          miss       0.00      0.00      0.00         3\n",
      "     off drive       0.50      0.25      0.33         4\n",
      "      on drive       1.00      0.67      0.80         6\n",
      "          pull       1.00      0.33      0.50         3\n",
      "straight drive       0.00      0.00      0.00         2\n",
      "\n",
      "      accuracy                           0.60        52\n",
      "     macro avg       0.46      0.45      0.42        52\n",
      "  weighted avg       0.55      0.60      0.54        52\n",
      "\n"
     ]
    },
    {
     "name": "stderr",
     "output_type": "stream",
     "text": [
      "c:\\Users\\gupta\\Desktop\\ICC player dataset\\venv\\Lib\\site-packages\\sklearn\\metrics\\_classification.py:1469: UndefinedMetricWarning: Precision and F-score are ill-defined and being set to 0.0 in labels with no predicted samples. Use `zero_division` parameter to control this behavior.\n",
      "  _warn_prf(average, modifier, msg_start, len(result))\n",
      "c:\\Users\\gupta\\Desktop\\ICC player dataset\\venv\\Lib\\site-packages\\sklearn\\metrics\\_classification.py:1469: UndefinedMetricWarning: Precision and F-score are ill-defined and being set to 0.0 in labels with no predicted samples. Use `zero_division` parameter to control this behavior.\n",
      "  _warn_prf(average, modifier, msg_start, len(result))\n",
      "c:\\Users\\gupta\\Desktop\\ICC player dataset\\venv\\Lib\\site-packages\\sklearn\\metrics\\_classification.py:1469: UndefinedMetricWarning: Precision and F-score are ill-defined and being set to 0.0 in labels with no predicted samples. Use `zero_division` parameter to control this behavior.\n",
      "  _warn_prf(average, modifier, msg_start, len(result))\n"
     ]
    },
    {
     "data": {
      "text/plain": [
       "['shot_model.pkl']"
      ]
     },
     "execution_count": 15,
     "metadata": {},
     "output_type": "execute_result"
    }
   ],
   "source": [
    "# shot\n",
    "\n",
    "from sklearn.model_selection import train_test_split\n",
    "\n",
    "X_train, X_test, y_train, y_test = train_test_split(X_tfidf, labels_shot, test_size=0.2, random_state=42)\n",
    "\n",
    "from sklearn.ensemble import RandomForestClassifier\n",
    "\n",
    "# Create a Random Forest classifier\n",
    "rf_classifier = RandomForestClassifier(n_estimators=120, random_state=42,max_depth=12)\n",
    "\n",
    "# Train the classifier\n",
    "rf_classifier.fit(X_train, y_train)\n",
    "\n",
    "from sklearn.metrics import accuracy_score, classification_report\n",
    "\n",
    "# Make predictions\n",
    "y_pred = rf_classifier.predict(X_test)\n",
    "\n",
    "# Evaluate the classifier\n",
    "accuracy = accuracy_score(y_test, y_pred)\n",
    "report = classification_report(y_test, y_pred)\n",
    "\n",
    "print(f\"Accuracy: {accuracy}\")\n",
    "print(report)\n",
    "\n",
    "\n",
    "\n",
    "\n",
    "import joblib\n",
    "\n",
    "# Save the trained Random Forest classifier to a file\n",
    "model_filename = 'shot_model.pkl'\n",
    "joblib.dump(rf_classifier, model_filename)"
   ]
  },
  {
   "cell_type": "code",
   "execution_count": 27,
   "metadata": {},
   "outputs": [
    {
     "data": {
      "text/html": [
       "<div>\n",
       "<style scoped>\n",
       "    .dataframe tbody tr th:only-of-type {\n",
       "        vertical-align: middle;\n",
       "    }\n",
       "\n",
       "    .dataframe tbody tr th {\n",
       "        vertical-align: top;\n",
       "    }\n",
       "\n",
       "    .dataframe thead th {\n",
       "        text-align: right;\n",
       "    }\n",
       "</style>\n",
       "<table border=\"1\" class=\"dataframe\">\n",
       "  <thead>\n",
       "    <tr style=\"text-align: right;\">\n",
       "      <th></th>\n",
       "      <th>Unnamed: 0</th>\n",
       "      <th>batter</th>\n",
       "      <th>baller</th>\n",
       "      <th>ball_speed</th>\n",
       "      <th>ball_length</th>\n",
       "      <th>ball_swing</th>\n",
       "      <th>wicket</th>\n",
       "      <th>wide</th>\n",
       "      <th>runs</th>\n",
       "      <th>shot</th>\n",
       "      <th>commentary</th>\n",
       "    </tr>\n",
       "  </thead>\n",
       "  <tbody>\n",
       "    <tr>\n",
       "      <th>0</th>\n",
       "      <td>0</td>\n",
       "      <td>Bumrah</td>\n",
       "      <td>Naseem Shah</td>\n",
       "      <td>Slower ball at 119</td>\n",
       "      <td>NaN</td>\n",
       "      <td>NaN</td>\n",
       "      <td>1</td>\n",
       "      <td>0</td>\n",
       "      <td>0</td>\n",
       "      <td>NaN</td>\n",
       "      <td>Naseem Shah to Bumrah, out Caught by Agha Salm...</td>\n",
       "    </tr>\n",
       "    <tr>\n",
       "      <th>1</th>\n",
       "      <td>1</td>\n",
       "      <td>Bumrah</td>\n",
       "      <td>Naseem Shah</td>\n",
       "      <td>139</td>\n",
       "      <td>fuller</td>\n",
       "      <td>NaN</td>\n",
       "      <td>0</td>\n",
       "      <td>0</td>\n",
       "      <td>4</td>\n",
       "      <td>NaN</td>\n",
       "      <td>Naseem Shah to Bumrah, FOUR, 139kph, fuller in...</td>\n",
       "    </tr>\n",
       "    <tr>\n",
       "      <th>2</th>\n",
       "      <td>2</td>\n",
       "      <td>Siraj</td>\n",
       "      <td>Naseem Shah</td>\n",
       "      <td>NaN</td>\n",
       "      <td>short</td>\n",
       "      <td>NaN</td>\n",
       "      <td>0</td>\n",
       "      <td>0</td>\n",
       "      <td>1</td>\n",
       "      <td>NaN</td>\n",
       "      <td>Naseem Shah to Siraj, 1 run, short of length d...</td>\n",
       "    </tr>\n",
       "    <tr>\n",
       "      <th>3</th>\n",
       "      <td>3</td>\n",
       "      <td>Kuldeep Yadav</td>\n",
       "      <td>Naseem Shah</td>\n",
       "      <td>141</td>\n",
       "      <td>short</td>\n",
       "      <td>outside</td>\n",
       "      <td>1</td>\n",
       "      <td>0</td>\n",
       "      <td>0</td>\n",
       "      <td>NaN</td>\n",
       "      <td>Naseem Shah to Kuldeep Yadav, out Caught by Ri...</td>\n",
       "    </tr>\n",
       "    <tr>\n",
       "      <th>4</th>\n",
       "      <td>4</td>\n",
       "      <td>Kuldeep Yadav</td>\n",
       "      <td>Naseem Shah</td>\n",
       "      <td>NaN</td>\n",
       "      <td>length</td>\n",
       "      <td>NaN</td>\n",
       "      <td>0</td>\n",
       "      <td>0</td>\n",
       "      <td>0</td>\n",
       "      <td>NaN</td>\n",
       "      <td>Naseem Shah to Kuldeep Yadav, no run, B0$, len...</td>\n",
       "    </tr>\n",
       "  </tbody>\n",
       "</table>\n",
       "</div>"
      ],
      "text/plain": [
       "   Unnamed: 0         batter       baller          ball_speed ball_length  \\\n",
       "0           0         Bumrah  Naseem Shah  Slower ball at 119         NaN   \n",
       "1           1         Bumrah  Naseem Shah                 139      fuller   \n",
       "2           2          Siraj  Naseem Shah                 NaN       short   \n",
       "3           3  Kuldeep Yadav  Naseem Shah                 141       short   \n",
       "4           4  Kuldeep Yadav  Naseem Shah                 NaN      length   \n",
       "\n",
       "  ball_swing  wicket  wide  runs  shot  \\\n",
       "0        NaN       1     0     0   NaN   \n",
       "1        NaN       0     0     4   NaN   \n",
       "2        NaN       0     0     1   NaN   \n",
       "3    outside       1     0     0   NaN   \n",
       "4        NaN       0     0     0   NaN   \n",
       "\n",
       "                                          commentary  \n",
       "0  Naseem Shah to Bumrah, out Caught by Agha Salm...  \n",
       "1  Naseem Shah to Bumrah, FOUR, 139kph, fuller in...  \n",
       "2  Naseem Shah to Siraj, 1 run, short of length d...  \n",
       "3  Naseem Shah to Kuldeep Yadav, out Caught by Ri...  \n",
       "4  Naseem Shah to Kuldeep Yadav, no run, B0$, len...  "
      ]
     },
     "execution_count": 27,
     "metadata": {},
     "output_type": "execute_result"
    }
   ],
   "source": [
    "import pandas as pd\n",
    "test_df=pd.read_csv(\"match_data\\ind-vs-pak.csv\")\n",
    "test_df.head()"
   ]
  },
  {
   "cell_type": "code",
   "execution_count": 17,
   "metadata": {},
   "outputs": [
    {
     "name": "stdout",
     "output_type": "stream",
     "text": [
      "<class 'pandas.core.frame.DataFrame'>\n",
      "RangeIndex: 305 entries, 0 to 304\n",
      "Data columns (total 11 columns):\n",
      " #   Column       Non-Null Count  Dtype  \n",
      "---  ------       --------------  -----  \n",
      " 0   Unnamed: 0   305 non-null    int64  \n",
      " 1   batter       305 non-null    object \n",
      " 2   baller       305 non-null    object \n",
      " 3   ball_speed   113 non-null    float64\n",
      " 4   ball_length  258 non-null    object \n",
      " 5   ball_line    266 non-null    object \n",
      " 6   wicket       305 non-null    int64  \n",
      " 7   wide         305 non-null    int64  \n",
      " 8   runs         305 non-null    int64  \n",
      " 9   shot         258 non-null    object \n",
      " 10  commentary   305 non-null    object \n",
      "dtypes: float64(1), int64(4), object(6)\n",
      "memory usage: 26.3+ KB\n"
     ]
    }
   ],
   "source": [
    "test_df.info()"
   ]
  },
  {
   "cell_type": "code",
   "execution_count": 28,
   "metadata": {},
   "outputs": [],
   "source": [
    "x=[]\n",
    "length=test_df.commentary\n",
    "for j in length:\n",
    "    x.append(j)\n",
    "\n",
    "x = tfidf_vectorizer.fit_transform(x)\n",
    "\n",
    "# Load the saved model\n",
    "ball_length_model = joblib.load(\"models/ball_length_model.pkl\")\n",
    "ball_line_model = joblib.load(\"models/ball_line_model.pkl\")\n",
    "shot_model = joblib.load(\"models/shot_model.pkl\")\n",
    "\n",
    "# Use the loaded model to make predictions\n",
    "predictions_a = ball_length_model.predict(x)\n",
    "predictions_b = ball_line_model.predict(x)\n",
    "predictions_c = shot_model.predict(x)\n",
    "\n",
    "test_df[\"ball_length\"]=predictions_a\n",
    "test_df[\"ball_swing\"]=predictions_b\n",
    "test_df[\"shot\"]=predictions_c\n",
    "\n",
    "test_df.to_csv(\"match_data\\ind-vs-pak.csv\", index=False)"
   ]
  }
 ],
 "metadata": {
  "kernelspec": {
   "display_name": "Python 3",
   "language": "python",
   "name": "python3"
  },
  "language_info": {
   "codemirror_mode": {
    "name": "ipython",
    "version": 3
   },
   "file_extension": ".py",
   "mimetype": "text/x-python",
   "name": "python",
   "nbconvert_exporter": "python",
   "pygments_lexer": "ipython3",
   "version": "3.11.4"
  },
  "orig_nbformat": 4
 },
 "nbformat": 4,
 "nbformat_minor": 2
}
